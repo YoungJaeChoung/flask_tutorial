{
 "cells": [
  {
   "cell_type": "markdown",
   "id": "hollow-campbell",
   "metadata": {},
   "source": [
    "# Reference"
   ]
  },
  {
   "cell_type": "markdown",
   "id": "excited-target",
   "metadata": {},
   "source": [
    "https://www.youtube.com/watch?v=USTqY4gH_VM <br>\n",
    "http://dash.plotly.com/datatable"
   ]
  },
  {
   "cell_type": "markdown",
   "id": "close-soundtrack",
   "metadata": {},
   "source": [
    "# Library"
   ]
  },
  {
   "cell_type": "code",
   "execution_count": 19,
   "id": "injured-nursing",
   "metadata": {},
   "outputs": [],
   "source": [
    "import dash\n",
    "import dash_table\n",
    "import dash_core_components as dcc\n",
    "import plotly.graph_objs as go\n",
    "import dash_html_components as html\n",
    "\n",
    "import os\n",
    "import pandas as pd\n",
    "import numpy as np"
   ]
  },
  {
   "cell_type": "markdown",
   "id": "roman-satellite",
   "metadata": {},
   "source": [
    "# Data"
   ]
  },
  {
   "cell_type": "code",
   "execution_count": 16,
   "id": "positive-western",
   "metadata": {},
   "outputs": [
    {
     "data": {
      "text/html": [
       "<div>\n",
       "<style scoped>\n",
       "    .dataframe tbody tr th:only-of-type {\n",
       "        vertical-align: middle;\n",
       "    }\n",
       "\n",
       "    .dataframe tbody tr th {\n",
       "        vertical-align: top;\n",
       "    }\n",
       "\n",
       "    .dataframe thead th {\n",
       "        text-align: right;\n",
       "    }\n",
       "</style>\n",
       "<table border=\"1\" class=\"dataframe\">\n",
       "  <thead>\n",
       "    <tr style=\"text-align: right;\">\n",
       "      <th></th>\n",
       "      <th>country</th>\n",
       "      <th>iso_alpha3</th>\n",
       "      <th>year</th>\n",
       "      <th>internet daily</th>\n",
       "      <th>did online course</th>\n",
       "      <th>internet at least once/week</th>\n",
       "    </tr>\n",
       "    <tr>\n",
       "      <th>id</th>\n",
       "      <th></th>\n",
       "      <th></th>\n",
       "      <th></th>\n",
       "      <th></th>\n",
       "      <th></th>\n",
       "      <th></th>\n",
       "    </tr>\n",
       "  </thead>\n",
       "  <tbody>\n",
       "    <tr>\n",
       "      <th>AUT</th>\n",
       "      <td>Austria</td>\n",
       "      <td>AUT</td>\n",
       "      <td>2019</td>\n",
       "      <td>80.0</td>\n",
       "      <td>8.0</td>\n",
       "      <td>86.0</td>\n",
       "    </tr>\n",
       "    <tr>\n",
       "      <th>BEL</th>\n",
       "      <td>Belgium</td>\n",
       "      <td>BEL</td>\n",
       "      <td>2019</td>\n",
       "      <td>85.0</td>\n",
       "      <td>9.0</td>\n",
       "      <td>89.0</td>\n",
       "    </tr>\n",
       "    <tr>\n",
       "      <th>BIH</th>\n",
       "      <td>Bosnia and Herzegovina</td>\n",
       "      <td>BIH</td>\n",
       "      <td>2019</td>\n",
       "      <td>65.0</td>\n",
       "      <td>3.0</td>\n",
       "      <td>69.0</td>\n",
       "    </tr>\n",
       "  </tbody>\n",
       "</table>\n",
       "</div>"
      ],
      "text/plain": [
       "                    country iso_alpha3  year  internet daily  \\\n",
       "id                                                             \n",
       "AUT                 Austria        AUT  2019            80.0   \n",
       "BEL                 Belgium        BEL  2019            85.0   \n",
       "BIH  Bosnia and Herzegovina        BIH  2019            65.0   \n",
       "\n",
       "     did online course  internet at least once/week  \n",
       "id                                                   \n",
       "AUT                8.0                         86.0  \n",
       "BEL                9.0                         89.0  \n",
       "BIH                3.0                         69.0  "
      ]
     },
     "execution_count": 16,
     "metadata": {},
     "output_type": "execute_result"
    }
   ],
   "source": [
    "# read data\n",
    "data_path = os.path.dirname(os.getcwd()) + \"/data\" + \"/internet_cleaned.csv\"\n",
    "df = pd.read_csv(data_path)\n",
    "\n",
    "# select obs\n",
    "df = df[df[\"year\"] == 2019]\n",
    "df[\"id\"] = df[\"iso_alpha3\"]\n",
    "df.set_index(\"id\", inplace=True, drop=True)\n",
    "\n",
    "# print\n",
    "df.head(3)"
   ]
  },
  {
   "cell_type": "markdown",
   "id": "generous-advertising",
   "metadata": {},
   "source": [
    "# Dash - app"
   ]
  },
  {
   "cell_type": "code",
   "execution_count": 17,
   "id": "funny-gothic",
   "metadata": {},
   "outputs": [],
   "source": [
    "app = dash.Dash()"
   ]
  },
  {
   "cell_type": "markdown",
   "id": "exposed-chicken",
   "metadata": {},
   "source": [
    "## > Date range picker"
   ]
  },
  {
   "cell_type": "code",
   "execution_count": null,
   "id": "maritime-archive",
   "metadata": {},
   "outputs": [],
   "source": [
    "\"\"\" TODO\n",
    "[ ] Code 이해\n",
    "[ ] Drag 할 수 있는 것 있으면 좋겠다 // page 대신...\n",
    "\"\"\""
   ]
  },
  {
   "cell_type": "code",
   "execution_count": 22,
   "id": "divine-pride",
   "metadata": {},
   "outputs": [],
   "source": [
    "def make_column_list(df):\n",
    "    column_list = []\n",
    "    for column in df.columns:\n",
    "        item = {\n",
    "            \"name\": column,\n",
    "            \"id\": column,\n",
    "            \"deletable\": True,\n",
    "            \"selectable\": True,\n",
    "        }\n",
    "        if column in [\"iso_alpha3\", \"year\", \"id\"]:\n",
    "            item[\"hideable\"] = True  # User can this column if hidable is True\n",
    "        column_list.append(item)\n",
    "    return column_list\n",
    "\n",
    "\n",
    "def make_style_cell_conditional_list():\n",
    "    style_cell_conditional_list = []\n",
    "    for column in ['country', 'iso_alpha3']:\n",
    "        item = {\n",
    "            'if': {'column_id': column},\n",
    "            'textAlign': 'left'\n",
    "        } \n",
    "        style_cell_conditional_list.append(style_cell_conditional_list)\n",
    "    return style_cell_conditional_list"
   ]
  },
  {
   "cell_type": "code",
   "execution_count": 32,
   "id": "headed-joseph",
   "metadata": {},
   "outputs": [],
   "source": [
    "\n",
    "app.layout = html.Div([\n",
    "    dash_table.DataTable(\n",
    "        # ID\n",
    "        id='datatable-interactivity',\n",
    "        \n",
    "        # Data\n",
    "        columns=make_column_list(df),\n",
    "        data=df.to_dict('records'),  # the contents of the table\n",
    "        \n",
    "        # Editable\n",
    "        editable=False,              # allow editing of data inside all cells\n",
    "        \n",
    "        # Filter\n",
    "        filter_action=\"native\",      # allow filtering of data by user ('native') or not ('none')\n",
    "        \n",
    "        # Sort\n",
    "        sort_action=\"native\",        # enables data to be sorted per-column by user or not ('none')\n",
    "        sort_mode=\"single\",          # sort values with more than one column; options: \"multi\", \"single\"\n",
    "        \n",
    "        # Column, Row Select\n",
    "        column_selectable=\"multi\",   # allow users to select 'multi' or 'single' columns\n",
    "        row_selectable=\"multi\",      # allow users to select 'multi' or 'single' rows\n",
    "        row_deletable=False,         # choose if user can delete a row (True) or not (False)\n",
    "        selected_columns=[],         # ids of columns that user selects\n",
    "        selected_rows=[],            # indices of rows that user selects\n",
    "        \n",
    "        # Table format\n",
    "        \"\"\"TODO: ????? // 위아래로 드래그 휠 되도록 변경\"\"\"\n",
    "        page_action=\"native\",        # all data is passed to the table up-front or not ('none')\n",
    "        page_current=0,              # page number that user is on\n",
    "        page_size=6,                 # number of rows visible per page\n",
    "        style_cell={                 # ensure adequate header width when text is shorter than cell's text\n",
    "            'minWidth': 95,\n",
    "            'maxWidth': 95,\n",
    "            'width': 95\n",
    "        },\n",
    "        \n",
    "        # align text columns to left. By default they are aligned to right\n",
    "        style_cell_conditional=make_style_cell_conditional_list()\n",
    "        \n",
    "        # overflow cells' content into multiple lines if cell is too smale for given value or word\n",
    "        style_data={                 \n",
    "            'whiteSpace': 'normal',\n",
    "            'height': 'auto'\n",
    "        }\n",
    "    ),\n",
    "\n",
    "    html.Br(),\n",
    "    html.Br(),\n",
    "    html.Div(id='bar-container'),\n",
    "    html.Div(id='choromap-container')\n",
    "])"
   ]
  },
  {
   "cell_type": "code",
   "execution_count": 33,
   "id": "nuclear-international",
   "metadata": {},
   "outputs": [
    {
     "name": "stdout",
     "output_type": "stream",
     "text": [
      "Dash is running on http://127.0.0.1:8050/\n",
      "\n",
      " * Serving Flask app \"__main__\" (lazy loading)\n",
      " * Environment: production\n",
      "\u001b[31m   WARNING: This is a development server. Do not use it in a production deployment.\u001b[0m\n",
      "\u001b[2m   Use a production WSGI server instead.\u001b[0m\n",
      " * Debug mode: off\n"
     ]
    },
    {
     "name": "stderr",
     "output_type": "stream",
     "text": [
      " * Running on http://127.0.0.1:8050/ (Press CTRL+C to quit)\n",
      "127.0.0.1 - - [26/Feb/2021 11:38:00] \"\u001b[37mGET / HTTP/1.1\u001b[0m\" 200 -\n",
      "127.0.0.1 - - [26/Feb/2021 11:38:00] \"\u001b[37mGET /_dash-dependencies HTTP/1.1\u001b[0m\" 200 -\n",
      "127.0.0.1 - - [26/Feb/2021 11:38:00] \"\u001b[37mGET /_dash-layout HTTP/1.1\u001b[0m\" 200 -\n"
     ]
    }
   ],
   "source": [
    "if __name__ == \"__main__\":\n",
    "    app.run_server()"
   ]
  },
  {
   "cell_type": "code",
   "execution_count": null,
   "id": "exterior-intake",
   "metadata": {},
   "outputs": [],
   "source": []
  },
  {
   "cell_type": "code",
   "execution_count": null,
   "id": "matched-belly",
   "metadata": {},
   "outputs": [],
   "source": []
  }
 ],
 "metadata": {
  "kernelspec": {
   "display_name": "Python 3",
   "language": "python",
   "name": "python3"
  },
  "language_info": {
   "codemirror_mode": {
    "name": "ipython",
    "version": 3
   },
   "file_extension": ".py",
   "mimetype": "text/x-python",
   "name": "python",
   "nbconvert_exporter": "python",
   "pygments_lexer": "ipython3",
   "version": "3.7.8"
  }
 },
 "nbformat": 4,
 "nbformat_minor": 5
}
