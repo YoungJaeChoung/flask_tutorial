{
 "cells": [
  {
   "cell_type": "markdown",
   "id": "loved-fever",
   "metadata": {},
   "source": [
    "# Reference"
   ]
  },
  {
   "cell_type": "markdown",
   "id": "applied-simpson",
   "metadata": {},
   "source": [
    "https://www.youtube.com/watch?v=WZERgVGUoIk&list=PLH6mU1kedUy8fCzkTTJlwsf2EnV_UvOV-&index=11"
   ]
  },
  {
   "cell_type": "markdown",
   "id": "electoral-concern",
   "metadata": {},
   "source": [
    "# Library"
   ]
  },
  {
   "cell_type": "code",
   "execution_count": 3,
   "id": "willing-antigua",
   "metadata": {},
   "outputs": [],
   "source": [
    "import dash\n",
    "import dash_core_components as dcc\n",
    "import plotly.graph_objs as go\n",
    "import dash_html_components as html\n",
    "import pandas as pd\n",
    "import numpy as np"
   ]
  },
  {
   "cell_type": "markdown",
   "id": "typical-arrow",
   "metadata": {},
   "source": [
    "# Dash - app"
   ]
  },
  {
   "cell_type": "code",
   "execution_count": 4,
   "id": "chubby-prime",
   "metadata": {},
   "outputs": [],
   "source": [
    "app = dash.Dash()"
   ]
  },
  {
   "cell_type": "markdown",
   "id": "expensive-thermal",
   "metadata": {},
   "source": [
    "## > Check list"
   ]
  },
  {
   "cell_type": "code",
   "execution_count": 13,
   "id": "worse-jaguar",
   "metadata": {},
   "outputs": [],
   "source": [
    "app.layout = html.Div([\n",
    "    \n",
    "    html.Label(\"This is a check list\"),\n",
    "    dcc.Checklist(\n",
    "        options=[\n",
    "            {\n",
    "                \"label\": \"San Francisco\",\n",
    "                \"value\": \"SF\",\n",
    "                \"disabled\": False,  # if True, options are not displayed\n",
    "            },\n",
    "            {\n",
    "                \"label\": \"New York City\",\n",
    "                \"value\": \"NYC\",\n",
    "                \"disabled\": False,  # if True, options are not displayed\n",
    "            },\n",
    "            {\n",
    "                \"label\": \"Raleigh Durham\",\n",
    "                \"value\": \"RDU\",\n",
    "                \"disabled\": False,  # if True, options are not displayed\n",
    "            },\n",
    "        ],\n",
    "        value=[\"SF\", \"NYC\"],  # Default value to select\n",
    "    ),\n",
    "])"
   ]
  },
  {
   "cell_type": "code",
   "execution_count": 15,
   "id": "dietary-gender",
   "metadata": {},
   "outputs": [
    {
     "name": "stdout",
     "output_type": "stream",
     "text": [
      "Dash is running on http://127.0.0.1:4050/\n",
      "\n",
      " * Serving Flask app \"__main__\" (lazy loading)\n",
      " * Environment: production\n",
      "\u001b[31m   WARNING: This is a development server. Do not use it in a production deployment.\u001b[0m\n",
      "\u001b[2m   Use a production WSGI server instead.\u001b[0m\n",
      " * Debug mode: off\n"
     ]
    },
    {
     "name": "stderr",
     "output_type": "stream",
     "text": [
      " * Running on http://127.0.0.1:4050/ (Press CTRL+C to quit)\n",
      "127.0.0.1 - - [26/Feb/2021 10:41:36] \"\u001b[37mGET / HTTP/1.1\u001b[0m\" 200 -\n",
      "127.0.0.1 - - [26/Feb/2021 10:41:36] \"\u001b[37mGET /_dash-layout HTTP/1.1\u001b[0m\" 200 -\n",
      "127.0.0.1 - - [26/Feb/2021 10:41:36] \"\u001b[37mGET /_dash-dependencies HTTP/1.1\u001b[0m\" 200 -\n"
     ]
    }
   ],
   "source": [
    "if __name__ == \"__main__\":\n",
    "    app.run_server(port=4050)"
   ]
  },
  {
   "cell_type": "code",
   "execution_count": null,
   "id": "auburn-north",
   "metadata": {},
   "outputs": [],
   "source": []
  },
  {
   "cell_type": "code",
   "execution_count": null,
   "id": "musical-modem",
   "metadata": {},
   "outputs": [],
   "source": []
  }
 ],
 "metadata": {
  "kernelspec": {
   "display_name": "Python 3",
   "language": "python",
   "name": "python3"
  },
  "language_info": {
   "codemirror_mode": {
    "name": "ipython",
    "version": 3
   },
   "file_extension": ".py",
   "mimetype": "text/x-python",
   "name": "python",
   "nbconvert_exporter": "python",
   "pygments_lexer": "ipython3",
   "version": "3.7.8"
  }
 },
 "nbformat": 4,
 "nbformat_minor": 5
}
