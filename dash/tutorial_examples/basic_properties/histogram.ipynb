{
 "cells": [
  {
   "cell_type": "markdown",
   "id": "driven-handbook",
   "metadata": {},
   "source": [
    "# Reference"
   ]
  },
  {
   "cell_type": "markdown",
   "id": "eleven-disorder",
   "metadata": {},
   "source": [
    "https://www.youtube.com/watch?v=WZERgVGUoIk&list=PLH6mU1kedUy8fCzkTTJlwsf2EnV_UvOV-&index=8"
   ]
  },
  {
   "cell_type": "markdown",
   "id": "thirty-thirty",
   "metadata": {},
   "source": [
    "# Library"
   ]
  },
  {
   "cell_type": "code",
   "execution_count": 94,
   "id": "animal-brand",
   "metadata": {},
   "outputs": [],
   "source": [
    "import dash\n",
    "import dash_core_components as dcc\n",
    "import plotly.graph_objs as go\n",
    "import dash_html_components as html\n",
    "import pandas as pd\n",
    "import numpy as np"
   ]
  },
  {
   "cell_type": "markdown",
   "id": "caroline-strand",
   "metadata": {},
   "source": [
    "# Dash - app"
   ]
  },
  {
   "cell_type": "code",
   "execution_count": 71,
   "id": "applicable-redhead",
   "metadata": {},
   "outputs": [],
   "source": [
    "app = dash.Dash()"
   ]
  },
  {
   "cell_type": "markdown",
   "id": "robust-sight",
   "metadata": {},
   "source": [
    "## > Histogram"
   ]
  },
  {
   "cell_type": "code",
   "execution_count": 58,
   "id": "viral-looking",
   "metadata": {},
   "outputs": [],
   "source": [
    "colors = {\n",
    "    \"text\": \"#FF0000\",\n",
    "    \"plot_bgcolor\": \"#D3D3D3\",\n",
    "    \"paper_bgcolor\": \"#00FFFF\",\n",
    "}"
   ]
  },
  {
   "cell_type": "code",
   "execution_count": 59,
   "id": "stupid-accountability",
   "metadata": {},
   "outputs": [],
   "source": [
    "app.layout = html.Div([\n",
    "    html.H1(\n",
    "        children=\"Hello Dash!!!\",\n",
    "        style={\n",
    "            \"textAlign\": \"center\",\n",
    "            \"color\": colors[\"text\"],\n",
    "        }\n",
    "    ),\n",
    "    \n",
    "    html.Div(\n",
    "        children=\"Dash - A Data product development framework from plotly\",\n",
    "        style={\n",
    "            \"textAlign\": \"center\",\n",
    "            \"color\": colors[\"text\"],\n",
    "        }\n",
    "    ),\n",
    "    \n",
    "    dcc.Graph(\n",
    "        id = \"samplechart\",\n",
    "        figure = {\n",
    "            \"data\": [\n",
    "                {\n",
    "                    \"x\": [4, 6, 8],\n",
    "                    \"y\": [12, 16, 18],\n",
    "                    \"type\": \"bar\",\n",
    "                    \"name\": \"First Chart\"\n",
    "                },\n",
    "                {\n",
    "                    \"x\": [4, 6, 8],\n",
    "                    \"y\": [20, 16, 15],\n",
    "                    \"type\": \"bar\",\n",
    "                    \"name\": \"First Chart\"\n",
    "                },\n",
    "            ],\n",
    "            \"layout\": {\n",
    "                \"plot_bgcolor\": colors[\"plot_bgcolor\"],\n",
    "                \"paper_bgcolor\": colors[\"paper_bgcolor\"],\n",
    "                \"font\": {\n",
    "                    \"color\": colors[\"text\"],\n",
    "                },\n",
    "                \"title\": \"Simple Bar Chart\",\n",
    "            }\n",
    "        }\n",
    "    )\n",
    "])"
   ]
  },
  {
   "cell_type": "code",
   "execution_count": 60,
   "id": "differential-federation",
   "metadata": {},
   "outputs": [
    {
     "name": "stdout",
     "output_type": "stream",
     "text": [
      "Dash is running on http://127.0.0.1:4050/\n",
      "\n",
      " * Serving Flask app \"__main__\" (lazy loading)\n",
      " * Environment: production\n",
      "\u001b[31m   WARNING: This is a development server. Do not use it in a production deployment.\u001b[0m\n",
      "\u001b[2m   Use a production WSGI server instead.\u001b[0m\n",
      " * Debug mode: off\n"
     ]
    },
    {
     "name": "stderr",
     "output_type": "stream",
     "text": [
      " * Running on http://127.0.0.1:4050/ (Press CTRL+C to quit)\n",
      "127.0.0.1 - - [25/Feb/2021 16:47:58] \"\u001b[37mGET / HTTP/1.1\u001b[0m\" 200 -\n",
      "127.0.0.1 - - [25/Feb/2021 16:47:58] \"\u001b[37mGET /_dash-layout HTTP/1.1\u001b[0m\" 200 -\n",
      "127.0.0.1 - - [25/Feb/2021 16:47:58] \"\u001b[37mGET /_dash-dependencies HTTP/1.1\u001b[0m\" 200 -\n"
     ]
    }
   ],
   "source": [
    "if __name__ == \"__main__\":\n",
    "    app.run_server(port=4050)"
   ]
  },
  {
   "cell_type": "code",
   "execution_count": null,
   "id": "latest-persian",
   "metadata": {},
   "outputs": [],
   "source": []
  },
  {
   "cell_type": "code",
   "execution_count": null,
   "id": "departmental-cover",
   "metadata": {},
   "outputs": [],
   "source": []
  }
 ],
 "metadata": {
  "kernelspec": {
   "display_name": "Python 3",
   "language": "python",
   "name": "python3"
  },
  "language_info": {
   "codemirror_mode": {
    "name": "ipython",
    "version": 3
   },
   "file_extension": ".py",
   "mimetype": "text/x-python",
   "name": "python",
   "nbconvert_exporter": "python",
   "pygments_lexer": "ipython3",
   "version": "3.7.8"
  }
 },
 "nbformat": 4,
 "nbformat_minor": 5
}
