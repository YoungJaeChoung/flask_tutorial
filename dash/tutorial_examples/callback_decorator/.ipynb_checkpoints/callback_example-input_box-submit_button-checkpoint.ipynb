{
 "cells": [
  {
   "cell_type": "markdown",
   "id": "packed-regard",
   "metadata": {},
   "source": [
    "# Reference"
   ]
  },
  {
   "cell_type": "markdown",
   "id": "exotic-housing",
   "metadata": {},
   "source": [
    "https://www.youtube.com/watch?v=WZERgVGUoIk&list=PLH6mU1kedUy8fCzkTTJlwsf2EnV_UvOV-&index=11 <br>\n",
    "https://www.youtube.com/watch?v=WZERgVGUoIk&list=PLH6mU1kedUy8fCzkTTJlwsf2EnV_UvOV-&index=17"
   ]
  },
  {
   "cell_type": "markdown",
   "id": "incoming-fever",
   "metadata": {},
   "source": [
    "# Caution"
   ]
  },
  {
   "cell_type": "markdown",
   "id": "realistic-playback",
   "metadata": {},
   "source": [
    "Callback 할 때에는 jupyter file 새로고침 하고, 다시 돌려야함\n",
    "- 그렇지 않으면, 웹에 결과가 제대로 표기 안되는 경우가 자주 발생\n",
    "\n",
    "또한 이 쥬피터 파일을 돌리면, 쥬피터가 작동을 안할 때가 있음.. 아예 jupyter lab 을 껐다 켜야함..\n",
    "- .py 파일 만들어서 하는 것이 좋음"
   ]
  },
  {
   "cell_type": "markdown",
   "id": "dimensional-aaron",
   "metadata": {},
   "source": [
    "# Library"
   ]
  },
  {
   "cell_type": "code",
   "execution_count": 1,
   "id": "recorded-building",
   "metadata": {},
   "outputs": [],
   "source": [
    "import dash\n",
    "import dash_core_components as dcc\n",
    "import dash_html_components as html\n",
    "from dash.dependencies import Input, Output, State\n",
    "\n",
    "import plotly.graph_objs as go\n",
    "\n",
    "import os\n",
    "import numpy as np\n",
    "import pandas as pd"
   ]
  },
  {
   "cell_type": "markdown",
   "id": "better-musician",
   "metadata": {},
   "source": [
    "# Dash - app"
   ]
  },
  {
   "cell_type": "code",
   "execution_count": 2,
   "id": "confident-subdivision",
   "metadata": {},
   "outputs": [],
   "source": [
    "app = dash.Dash()"
   ]
  },
  {
   "cell_type": "markdown",
   "id": "orange-judge",
   "metadata": {},
   "source": [
    "## > Input box"
   ]
  },
  {
   "cell_type": "code",
   "execution_count": 3,
   "id": "waiting-canon",
   "metadata": {
    "tags": []
   },
   "outputs": [],
   "source": [
    "app.layout = html.Div([\n",
    "    \n",
    "    html.Label(\"This is a input box\"),\n",
    "    dcc.Input(\n",
    "        id=\"text-input\",\n",
    "        placeholder=\"Input your name\",\n",
    "        type=\"text\",\n",
    "        value=\"\",\n",
    "    ),\n",
    "    \n",
    "    html.Button(\n",
    "        children=\"Submit\",\n",
    "        id=\"submit-form\",\n",
    "        n_clicks=0,\n",
    "    ),\n",
    "    html.Div(\n",
    "        id=\"text-output\",\n",
    "        children=[\"Submit Text\"],\n",
    "        style={}\n",
    "    ),\n",
    "])"
   ]
  },
  {
   "cell_type": "code",
   "execution_count": 4,
   "id": "olive-gibraltar",
   "metadata": {},
   "outputs": [],
   "source": [
    "@app.callback(\n",
    "    [\n",
    "        Output(component_id=\"text-output\", component_property=\"children\"),\n",
    "        Output(component_id=\"text-input\", component_property=\"value\"),\n",
    "    ],\n",
    "    Input(component_id=\"submit-form\", component_property=\"n_clicks\"),\n",
    "    State(component_id=\"text-input\", component_property=\"value\"),\n",
    "    prevent_initial_call=True\n",
    ")\n",
    "def submit_input(n_clicks, text_input):\n",
    "    print(f\"text input: {text_input}\")\n",
    "    return [text_input], \"\""
   ]
  },
  {
   "cell_type": "code",
   "execution_count": 5,
   "id": "dress-geology",
   "metadata": {},
   "outputs": [
    {
     "name": "stdout",
     "output_type": "stream",
     "text": [
      "Dash is running on http://127.0.0.1:4050/\n",
      "\n",
      " * Serving Flask app \"__main__\" (lazy loading)\n",
      " * Environment: production\n",
      "\u001b[31m   WARNING: This is a development server. Do not use it in a production deployment.\u001b[0m\n",
      "\u001b[2m   Use a production WSGI server instead.\u001b[0m\n",
      " * Debug mode: off\n"
     ]
    },
    {
     "name": "stderr",
     "output_type": "stream",
     "text": [
      " * Running on http://127.0.0.1:4050/ (Press CTRL+C to quit)\n",
      "127.0.0.1 - - [26/Feb/2021 15:06:14] \"\u001b[37mGET / HTTP/1.1\u001b[0m\" 200 -\n",
      "127.0.0.1 - - [26/Feb/2021 15:06:14] \"\u001b[37mGET /_dash-layout HTTP/1.1\u001b[0m\" 200 -\n",
      "127.0.0.1 - - [26/Feb/2021 15:06:14] \"\u001b[37mGET /_dash-dependencies HTTP/1.1\u001b[0m\" 200 -\n",
      "127.0.0.1 - - [26/Feb/2021 15:06:20] \"\u001b[37mPOST /_dash-update-component HTTP/1.1\u001b[0m\" 200 -\n"
     ]
    },
    {
     "name": "stdout",
     "output_type": "stream",
     "text": [
      "text input: afsdfsadfasdf\n"
     ]
    }
   ],
   "source": [
    "if __name__ == \"__main__\":\n",
    "    app.run_server(port=4050)"
   ]
  },
  {
   "cell_type": "code",
   "execution_count": null,
   "id": "stretch-finnish",
   "metadata": {},
   "outputs": [],
   "source": []
  },
  {
   "cell_type": "code",
   "execution_count": null,
   "id": "preliminary-december",
   "metadata": {},
   "outputs": [],
   "source": []
  }
 ],
 "metadata": {
  "kernelspec": {
   "display_name": "Python 3",
   "language": "python",
   "name": "python3"
  },
  "language_info": {
   "codemirror_mode": {
    "name": "ipython",
    "version": 3
   },
   "file_extension": ".py",
   "mimetype": "text/x-python",
   "name": "python",
   "nbconvert_exporter": "python",
   "pygments_lexer": "ipython3",
   "version": "3.7.8"
  }
 },
 "nbformat": 4,
 "nbformat_minor": 5
}
