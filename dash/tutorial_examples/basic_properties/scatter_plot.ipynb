{
 "cells": [
  {
   "cell_type": "markdown",
   "id": "otherwise-friday",
   "metadata": {},
   "source": [
    "# Reference"
   ]
  },
  {
   "cell_type": "markdown",
   "id": "differential-mason",
   "metadata": {},
   "source": [
    "https://www.youtube.com/watch?v=WZERgVGUoIk&list=PLH6mU1kedUy8fCzkTTJlwsf2EnV_UvOV-&index=8"
   ]
  },
  {
   "cell_type": "markdown",
   "id": "super-auction",
   "metadata": {},
   "source": [
    "# Library"
   ]
  },
  {
   "cell_type": "code",
   "execution_count": 94,
   "id": "worst-boating",
   "metadata": {},
   "outputs": [],
   "source": [
    "import dash\n",
    "import dash_core_components as dcc\n",
    "import plotly.graph_objs as go\n",
    "import dash_html_components as html\n",
    "import pandas as pd\n",
    "import numpy as np"
   ]
  },
  {
   "cell_type": "markdown",
   "id": "phantom-james",
   "metadata": {},
   "source": [
    "# Dash - app"
   ]
  },
  {
   "cell_type": "code",
   "execution_count": 71,
   "id": "rolled-modeling",
   "metadata": {},
   "outputs": [],
   "source": [
    "app = dash.Dash()"
   ]
  },
  {
   "cell_type": "markdown",
   "id": "awful-audit",
   "metadata": {},
   "source": [
    "## > Scatter plot"
   ]
  },
  {
   "cell_type": "code",
   "execution_count": null,
   "id": "overall-artwork",
   "metadata": {},
   "outputs": [],
   "source": [
    "np.random.seed(50)\n",
    "x_rand = np.random.randint(1, 61, 60)\n",
    "y_rand = np.random.randint(1, 61, 60)"
   ]
  },
  {
   "cell_type": "code",
   "execution_count": 92,
   "id": "younger-graham",
   "metadata": {},
   "outputs": [],
   "source": [
    "app.layout = html.Div([\n",
    "       \n",
    "    dcc.Graph(\n",
    "        id=\"scatter_chart\",\n",
    "        figure = {\n",
    "            \"data\": [\n",
    "                go.Scatter(\n",
    "                    x = x_rand,\n",
    "                    y = y_rand,\n",
    "                    mode=\"markers\",\n",
    "                )\n",
    "            ],\n",
    "            \"layout\": go.Layout(\n",
    "                title = f\"Scatter Plot of Random {len(x_rand)} points\",\n",
    "                xaxis = {\"title\": \"X\"},\n",
    "                yaxis = {\"title\": \"Y\"},\n",
    "            )\n",
    "        }\n",
    "    )\n",
    "    \n",
    "])"
   ]
  },
  {
   "cell_type": "code",
   "execution_count": 93,
   "id": "armed-virginia",
   "metadata": {},
   "outputs": [
    {
     "name": "stdout",
     "output_type": "stream",
     "text": [
      "Dash is running on http://127.0.0.1:4050/\n",
      "\n",
      "Dash is running on http://127.0.0.1:4050/\n",
      "\n",
      " * Serving Flask app \"__main__\" (lazy loading)\n",
      " * Environment: production\n",
      "\u001b[31m   WARNING: This is a development server. Do not use it in a production deployment.\u001b[0m\n",
      "\u001b[2m   Use a production WSGI server instead.\u001b[0m\n",
      " * Debug mode: off\n"
     ]
    },
    {
     "name": "stderr",
     "output_type": "stream",
     "text": [
      " * Running on http://127.0.0.1:4050/ (Press CTRL+C to quit)\n",
      "127.0.0.1 - - [25/Feb/2021 17:35:15] \"\u001b[37mGET / HTTP/1.1\u001b[0m\" 200 -\n",
      "127.0.0.1 - - [25/Feb/2021 17:35:15] \"\u001b[37mGET /_dash-layout HTTP/1.1\u001b[0m\" 200 -\n",
      "127.0.0.1 - - [25/Feb/2021 17:35:15] \"\u001b[37mGET /_dash-dependencies HTTP/1.1\u001b[0m\" 200 -\n"
     ]
    }
   ],
   "source": [
    "if __name__ == \"__main__\":\n",
    "    app.run_server(port=4050)"
   ]
  },
  {
   "cell_type": "code",
   "execution_count": null,
   "id": "pleasant-classroom",
   "metadata": {},
   "outputs": [],
   "source": []
  },
  {
   "cell_type": "code",
   "execution_count": null,
   "id": "scenic-ending",
   "metadata": {},
   "outputs": [],
   "source": []
  }
 ],
 "metadata": {
  "kernelspec": {
   "display_name": "Python 3",
   "language": "python",
   "name": "python3"
  },
  "language_info": {
   "codemirror_mode": {
    "name": "ipython",
    "version": 3
   },
   "file_extension": ".py",
   "mimetype": "text/x-python",
   "name": "python",
   "nbconvert_exporter": "python",
   "pygments_lexer": "ipython3",
   "version": "3.7.8"
  }
 },
 "nbformat": 4,
 "nbformat_minor": 5
}
