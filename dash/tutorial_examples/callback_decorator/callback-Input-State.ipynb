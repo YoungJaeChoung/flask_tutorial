{
 "cells": [
  {
   "cell_type": "markdown",
   "id": "numerical-intervention",
   "metadata": {},
   "source": [
    "# Reference"
   ]
  },
  {
   "cell_type": "markdown",
   "id": "leading-cloud",
   "metadata": {},
   "source": [
    "https://www.youtube.com/watch?v=mTsZL-VmRVE"
   ]
  },
  {
   "cell_type": "markdown",
   "id": "variable-algeria",
   "metadata": {},
   "source": [
    "# Caution"
   ]
  },
  {
   "cell_type": "markdown",
   "id": "elementary-rhythm",
   "metadata": {},
   "source": [
    "Callback 할 때에는 jupyter file 새로고침 하고, 다시 돌려야함\n",
    "- 그렇지 않으면, 웹에 결과가 제대로 표기 안되는 경우가 자주 발생"
   ]
  },
  {
   "cell_type": "markdown",
   "id": "minute-projection",
   "metadata": {},
   "source": [
    "# Library"
   ]
  },
  {
   "cell_type": "code",
   "execution_count": 1,
   "id": "annual-andrews",
   "metadata": {},
   "outputs": [],
   "source": [
    "import dash\n",
    "import dash_table\n",
    "import dash_core_components as dcc\n",
    "import dash_html_components as html\n",
    "from dash.dependencies import Input, Output, State\n",
    "\n",
    "import plotly.express as px\n",
    "import plotly.graph_objs as go\n",
    "\n",
    "import os\n",
    "import pandas as pd\n",
    "import numpy as np"
   ]
  },
  {
   "cell_type": "markdown",
   "id": "absent-palestinian",
   "metadata": {},
   "source": [
    "# Data"
   ]
  },
  {
   "cell_type": "code",
   "execution_count": 2,
   "id": "colored-leeds",
   "metadata": {},
   "outputs": [
    {
     "data": {
      "text/html": [
       "<div>\n",
       "<style scoped>\n",
       "    .dataframe tbody tr th:only-of-type {\n",
       "        vertical-align: middle;\n",
       "    }\n",
       "\n",
       "    .dataframe tbody tr th {\n",
       "        vertical-align: top;\n",
       "    }\n",
       "\n",
       "    .dataframe thead th {\n",
       "        text-align: right;\n",
       "    }\n",
       "</style>\n",
       "<table border=\"1\" class=\"dataframe\">\n",
       "  <thead>\n",
       "    <tr style=\"text-align: right;\">\n",
       "      <th></th>\n",
       "      <th>fund_name</th>\n",
       "      <th>fund_extended_name</th>\n",
       "      <th>category</th>\n",
       "      <th>fund_family</th>\n",
       "      <th>net_assets</th>\n",
       "      <th>ytd_return</th>\n",
       "      <th>fund_yield</th>\n",
       "      <th>morningstar_rating</th>\n",
       "      <th>inception_date</th>\n",
       "      <th>investment</th>\n",
       "      <th>...</th>\n",
       "      <th>consumer_cyclical</th>\n",
       "      <th>financial_services</th>\n",
       "      <th>real_estate</th>\n",
       "      <th>consumer_defensive</th>\n",
       "      <th>healthcare</th>\n",
       "      <th>utilities</th>\n",
       "      <th>communication_services</th>\n",
       "      <th>energy</th>\n",
       "      <th>industrials</th>\n",
       "      <th>technology</th>\n",
       "    </tr>\n",
       "  </thead>\n",
       "  <tbody>\n",
       "    <tr>\n",
       "      <th>0</th>\n",
       "      <td>FAAAX</td>\n",
       "      <td>Franklin K2 Alternative Strategies Fund Class A</td>\n",
       "      <td>Multialternative</td>\n",
       "      <td>Franklin Templeton Investments</td>\n",
       "      <td>1.210000e+09</td>\n",
       "      <td>4.35</td>\n",
       "      <td>0.00</td>\n",
       "      <td>4</td>\n",
       "      <td>10/10/2013</td>\n",
       "      <td>Growth</td>\n",
       "      <td>...</td>\n",
       "      <td>16.19</td>\n",
       "      <td>8.32</td>\n",
       "      <td>0.25</td>\n",
       "      <td>1.87</td>\n",
       "      <td>21.54</td>\n",
       "      <td>0.73</td>\n",
       "      <td>1.51</td>\n",
       "      <td>1.17</td>\n",
       "      <td>19.11</td>\n",
       "      <td>22.27</td>\n",
       "    </tr>\n",
       "    <tr>\n",
       "      <th>1</th>\n",
       "      <td>FAACX</td>\n",
       "      <td>Nuveen All-American Municipal Bond Fund Class C2</td>\n",
       "      <td>Muni National Long</td>\n",
       "      <td>Nuveen</td>\n",
       "      <td>4.060000e+09</td>\n",
       "      <td>3.22</td>\n",
       "      <td>2.96</td>\n",
       "      <td>4</td>\n",
       "      <td>6/1/1993</td>\n",
       "      <td>Growth</td>\n",
       "      <td>...</td>\n",
       "      <td>0.00</td>\n",
       "      <td>0.00</td>\n",
       "      <td>0.00</td>\n",
       "      <td>0.00</td>\n",
       "      <td>0.00</td>\n",
       "      <td>0.00</td>\n",
       "      <td>0.00</td>\n",
       "      <td>0.00</td>\n",
       "      <td>0.00</td>\n",
       "      <td>0.00</td>\n",
       "    </tr>\n",
       "    <tr>\n",
       "      <th>2</th>\n",
       "      <td>FAAFX</td>\n",
       "      <td>Fairholme Allocation Fund</td>\n",
       "      <td>Allocation - 30% to 50% Equity</td>\n",
       "      <td>Fairholme</td>\n",
       "      <td>7.662000e+07</td>\n",
       "      <td>11.21</td>\n",
       "      <td>1.02</td>\n",
       "      <td>1</td>\n",
       "      <td>12/30/2010</td>\n",
       "      <td>Growth</td>\n",
       "      <td>...</td>\n",
       "      <td>15.97</td>\n",
       "      <td>0.00</td>\n",
       "      <td>60.35</td>\n",
       "      <td>0.00</td>\n",
       "      <td>0.00</td>\n",
       "      <td>0.00</td>\n",
       "      <td>0.00</td>\n",
       "      <td>0.00</td>\n",
       "      <td>0.00</td>\n",
       "      <td>0.00</td>\n",
       "    </tr>\n",
       "  </tbody>\n",
       "</table>\n",
       "<p>3 rows × 36 columns</p>\n",
       "</div>"
      ],
      "text/plain": [
       "  fund_name                                fund_extended_name  \\\n",
       "0     FAAAX   Franklin K2 Alternative Strategies Fund Class A   \n",
       "1     FAACX  Nuveen All-American Municipal Bond Fund Class C2   \n",
       "2     FAAFX                         Fairholme Allocation Fund   \n",
       "\n",
       "                         category                     fund_family  \\\n",
       "0                Multialternative  Franklin Templeton Investments   \n",
       "1              Muni National Long                          Nuveen   \n",
       "2  Allocation - 30% to 50% Equity                       Fairholme   \n",
       "\n",
       "     net_assets  ytd_return  fund_yield  morningstar_rating inception_date  \\\n",
       "0  1.210000e+09        4.35        0.00                   4     10/10/2013   \n",
       "1  4.060000e+09        3.22        2.96                   4       6/1/1993   \n",
       "2  7.662000e+07       11.21        1.02                   1     12/30/2010   \n",
       "\n",
       "  investment  ... consumer_cyclical financial_services  real_estate  \\\n",
       "0     Growth  ...             16.19               8.32         0.25   \n",
       "1     Growth  ...              0.00               0.00         0.00   \n",
       "2     Growth  ...             15.97               0.00        60.35   \n",
       "\n",
       "   consumer_defensive  healthcare  utilities  communication_services  energy  \\\n",
       "0                1.87       21.54       0.73                    1.51    1.17   \n",
       "1                0.00        0.00       0.00                    0.00    0.00   \n",
       "2                0.00        0.00       0.00                    0.00    0.00   \n",
       "\n",
       "   industrials  technology  \n",
       "0        19.11       22.27  \n",
       "1         0.00        0.00  \n",
       "2         0.00        0.00  \n",
       "\n",
       "[3 rows x 36 columns]"
      ]
     },
     "execution_count": 2,
     "metadata": {},
     "output_type": "execute_result"
    }
   ],
   "source": [
    "# read data\n",
    "data_path = os.path.dirname(os.getcwd()) + \"/data\" + \"/Mutual-Funds.csv\"\n",
    "df = pd.read_csv(data_path)\n",
    "\n",
    "# print\n",
    "df.head(3)"
   ]
  },
  {
   "cell_type": "markdown",
   "id": "signal-protection",
   "metadata": {},
   "source": [
    "# Dash - app"
   ]
  },
  {
   "cell_type": "code",
   "execution_count": 3,
   "id": "impaired-opera",
   "metadata": {},
   "outputs": [],
   "source": [
    "app = dash.Dash()"
   ]
  },
  {
   "cell_type": "markdown",
   "id": "surprising-ideal",
   "metadata": {},
   "source": [
    "## > Date range picker"
   ]
  },
  {
   "cell_type": "code",
   "execution_count": 4,
   "id": "urban-restaurant",
   "metadata": {},
   "outputs": [],
   "source": [
    "colors = [\"black\", \"blue\", \"red\", \"yellow\", \"pink\", \"orange\"]"
   ]
  },
  {
   "cell_type": "code",
   "execution_count": 5,
   "id": "thorough-marshall",
   "metadata": {},
   "outputs": [],
   "source": [
    "app.layout = html.Div(\n",
    "    children=[\n",
    "        dcc.Dropdown(\n",
    "            id='my-dropdown',\n",
    "            multi=True,\n",
    "            options=[{'label': x, 'value': x} for x in sorted(df.fund_extended_name.unique())],\n",
    "            value=[\n",
    "                \"Fidelity 500 Index Fund\", \"Fidelity Advisor Freedom 2035 Fund Class A\",\n",
    "                \"Fidelity Freedom 2035 Fund\"\n",
    "            ]\n",
    "        ),\n",
    "        html.Button(\n",
    "            id='my-button',\n",
    "            n_clicks=0,\n",
    "            children=\"Show breakdown\"\n",
    "        ),\n",
    "        dcc.Graph(\n",
    "            id='graph-output',\n",
    "            figure={}\n",
    "        ),\n",
    "\n",
    "        html.Div(\n",
    "            id=\"sentence-output\",\n",
    "            children=[\n",
    "                \"This is the color I love\"\n",
    "            ],\n",
    "            style={}\n",
    "        ),\n",
    "        dcc.RadioItems(\n",
    "            id='my-radioitem',\n",
    "            value=\"black\",\n",
    "            options=[\n",
    "                {'label': c, 'value': c} for c in colors\n",
    "            ]\n",
    "        ),\n",
    "    ]\n",
    ")"
   ]
  },
  {
   "cell_type": "code",
   "execution_count": 6,
   "id": "accredited-reverse",
   "metadata": {},
   "outputs": [],
   "source": [
    "# State 의 경우, Input 이 trigger 되어야만 ㅡ 결과가 바뀜\n",
    "# 즉, 목록에서 항목을 선택한 후 ㅡ 버튼을 클릭(Input이 trigger) 해야 됨\n",
    "@app.callback(\n",
    "    Output(component_id='graph-output', component_property='figure'),\n",
    "    [Input(component_id='my-button', component_property='n_clicks')],\n",
    "    [State(component_id='my-dropdown', component_property='value')],\n",
    "    prevent_initial_call=False\n",
    ")\n",
    "def update_my_graph(\n",
    "    n,\n",
    "    val_chosen\n",
    "):\n",
    "    if len(val_chosen) > 0:\n",
    "        print(n)\n",
    "        print(f\"value user chose: {val_chosen}\")\n",
    "        print(type(val_chosen))\n",
    "        dff = df[df[\"fund_extended_name\"].isin(val_chosen)]\n",
    "        fig = px.pie(dff, values=\"ytd_return\", names=\"fund_extended_name\", title=\"Year-to-Date Returns\")\n",
    "        fig.update_traces(textinfo=\"value+percent\").update_layout(title_x=0.5)\n",
    "        return fig\n",
    "    elif len(val_chosen) == 0:\n",
    "        raise dash.exceptions.PreventUpdate"
   ]
  },
  {
   "cell_type": "code",
   "execution_count": 7,
   "id": "ethical-application",
   "metadata": {},
   "outputs": [
    {
     "name": "stdout",
     "output_type": "stream",
     "text": [
      "Dash is running on http://127.0.0.1:8050/\n",
      "\n",
      " * Serving Flask app \"__main__\" (lazy loading)\n",
      " * Environment: production\n",
      "\u001b[31m   WARNING: This is a development server. Do not use it in a production deployment.\u001b[0m\n",
      "\u001b[2m   Use a production WSGI server instead.\u001b[0m\n",
      " * Debug mode: off\n"
     ]
    },
    {
     "name": "stderr",
     "output_type": "stream",
     "text": [
      " * Running on http://127.0.0.1:8050/ (Press CTRL+C to quit)\n",
      "127.0.0.1 - - [26/Feb/2021 14:09:47] \"\u001b[37mGET / HTTP/1.1\u001b[0m\" 200 -\n",
      "127.0.0.1 - - [26/Feb/2021 14:09:48] \"\u001b[37mGET /_dash-dependencies HTTP/1.1\u001b[0m\" 200 -\n",
      "127.0.0.1 - - [26/Feb/2021 14:09:48] \"\u001b[37mGET /_dash-layout HTTP/1.1\u001b[0m\" 200 -\n"
     ]
    },
    {
     "name": "stdout",
     "output_type": "stream",
     "text": [
      "0\n",
      "value user chose: ['Fidelity 500 Index Fund', 'Fidelity Advisor Freedom 2035 Fund Class A', 'Fidelity Freedom 2035 Fund']\n",
      "<class 'list'>\n"
     ]
    },
    {
     "name": "stderr",
     "output_type": "stream",
     "text": [
      "127.0.0.1 - - [26/Feb/2021 14:09:48] \"\u001b[37mPOST /_dash-update-component HTTP/1.1\u001b[0m\" 200 -\n",
      "127.0.0.1 - - [26/Feb/2021 14:09:53] \"\u001b[37mPOST /_dash-update-component HTTP/1.1\u001b[0m\" 200 -\n"
     ]
    },
    {
     "name": "stdout",
     "output_type": "stream",
     "text": [
      "1\n",
      "value user chose: ['Fidelity 500 Index Fund', 'Fidelity Advisor Freedom 2035 Fund Class A', 'Fidelity Freedom 2035 Fund', 'AB FlexFee US Thematic Portfolio Advisor Class']\n",
      "<class 'list'>\n"
     ]
    }
   ],
   "source": [
    "if __name__ == \"__main__\":\n",
    "    app.run_server()"
   ]
  },
  {
   "cell_type": "code",
   "execution_count": null,
   "id": "drawn-terror",
   "metadata": {},
   "outputs": [],
   "source": []
  },
  {
   "cell_type": "code",
   "execution_count": null,
   "id": "measured-dispatch",
   "metadata": {},
   "outputs": [],
   "source": []
  }
 ],
 "metadata": {
  "kernelspec": {
   "display_name": "Python 3",
   "language": "python",
   "name": "python3"
  },
  "language_info": {
   "codemirror_mode": {
    "name": "ipython",
    "version": 3
   },
   "file_extension": ".py",
   "mimetype": "text/x-python",
   "name": "python",
   "nbconvert_exporter": "python",
   "pygments_lexer": "ipython3",
   "version": "3.7.8"
  }
 },
 "nbformat": 4,
 "nbformat_minor": 5
}
